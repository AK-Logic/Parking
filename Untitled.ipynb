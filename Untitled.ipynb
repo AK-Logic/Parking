{
 "cells": [
  {
   "cell_type": "code",
   "execution_count": 1,
   "id": "c2c9ed5a",
   "metadata": {},
   "outputs": [
    {
     "name": "stdout",
     "output_type": "stream",
     "text": [
      "TESTING OUT UPLOAD FEATURE JUPYTER NOTEBOOK\n"
     ]
    }
   ],
   "source": [
    "print(\"TESTING OUT UPLOAD FEATURE JUPYTER NOTEBOOK\")"
   ]
  },
  {
   "cell_type": "code",
   "execution_count": null,
   "id": "f842dd38",
   "metadata": {},
   "outputs": [],
   "source": [
    "print(\"first change made by AK\")"
   ]
  }
 ],
 "metadata": {
  "kernelspec": {
   "display_name": "Python 3 (ipykernel)",
   "language": "python",
   "name": "python3"
  },
  "language_info": {
   "codemirror_mode": {
    "name": "ipython",
    "version": 3
   },
   "file_extension": ".py",
   "mimetype": "text/x-python",
   "name": "python",
   "nbconvert_exporter": "python",
   "pygments_lexer": "ipython3",
   "version": "3.11.1"
  }
 },
 "nbformat": 4,
 "nbformat_minor": 5
}
