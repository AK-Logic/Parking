{
 "cells": [
  {
   "attachments": {},
   "cell_type": "markdown",
   "id": "f19d3a33",
   "metadata": {},
   "source": [
    "# Parking Sign Recognition\n"
   ]
  },
  {
   "attachments": {},
   "cell_type": "markdown",
   "id": "54a8608e",
   "metadata": {},
   "source": [
    "### Steps\n",
    "\n",
    "1. pictures of every possible sign [doesn't need words]\n",
    "2. need to find library, that reads text and makes strings and arrows \n",
    "\n",
    "find python library to do so"
   ]
  },
  {
   "cell_type": "markdown",
   "id": "4f756c2d",
   "metadata": {},
   "source": []
  }
 ],
 "metadata": {
  "kernelspec": {
   "display_name": "Python 3 (ipykernel)",
   "language": "python",
   "name": "python3"
  },
  "language_info": {
   "codemirror_mode": {
    "name": "ipython",
    "version": 3
   },
   "file_extension": ".py",
   "mimetype": "text/x-python",
   "name": "python",
   "nbconvert_exporter": "python",
   "pygments_lexer": "ipython3",
   "version": "3.11.1"
  }
 },
 "nbformat": 4,
 "nbformat_minor": 5
}
