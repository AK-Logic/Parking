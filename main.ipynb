{
 "cells": [
  {
   "attachments": {},
   "cell_type": "markdown",
   "id": "f19d3a33",
   "metadata": {},
   "source": [
    "# Parking Sign Recognition\n"
   ]
  },
  {
   "attachments": {},
   "cell_type": "markdown",
   "id": "54a8608e",
   "metadata": {},
   "source": [
    "### Steps\n",
    "\n",
    "1. pictures of every possible sign [doesn't need words]\n",
    "2. need to find python library to do the following a) Recognize the sign object b) match the sign with our database of base signs c) read the text"
   ]
  },
  {
   "cell_type": "code",
   "execution_count": null,
   "id": "a96ea567",
   "metadata": {},
   "outputs": [],
   "source": []
  }
 ],
 "metadata": {
  "kernelspec": {
   "display_name": "Python 3 (ipykernel)",
   "language": "python",
   "name": "python3"
  },
  "language_info": {
   "codemirror_mode": {
    "name": "ipython",
    "version": 3
   },
   "file_extension": ".py",
   "mimetype": "text/x-python",
   "name": "python",
   "nbconvert_exporter": "python",
   "pygments_lexer": "ipython3",
   "version": "3.11.1"
  }
 },
 "nbformat": 4,
 "nbformat_minor": 5
}
